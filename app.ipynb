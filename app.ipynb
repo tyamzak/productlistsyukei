{
 "cells": [
  {
   "cell_type": "code",
   "execution_count": 31,
   "metadata": {},
   "outputs": [
    {
     "name": "stdout",
     "output_type": "stream",
     "text": [
      "1,Cola\n",
      "\n",
      "2,Sprite\n",
      "\n",
      "3,Aquarius\n",
      "\n",
      "4,Real Gold\n",
      "\n",
      "5,Evian\n",
      "\n",
      "6,coffee\n",
      "\n",
      "7,Lemon Tea\n",
      "\n",
      "8,Milk Tea\n",
      "\n"
     ]
    }
   ],
   "source": [
    "# load productList.csv and add each lines into list object in python\n",
    "\n",
    "\n",
    "\n",
    "productList = []\n",
    "\n",
    "try:\n",
    "\n",
    "    with open('productList.csv', 'r') as f:\n",
    "        while True:\n",
    "            s = f.readline()\n",
    "            if s == \"\":\n",
    "                break\n",
    "            else:\n",
    "                productList.append(s.split(',')[1].replace('\\n',''))\n",
    "                print(s)\n",
    "\n",
    "except:\n",
    "    print('ファイルが読み込めませんでした。')\n",
    "\n",
    "\n"
   ]
  },
  {
   "cell_type": "code",
   "execution_count": 18,
   "metadata": {},
   "outputs": [],
   "source": [
    "purchase = []\n",
    "\n",
    "try:\n",
    "\n",
    "    with open('purchase.csv', 'r') as f:\n",
    "        while True:\n",
    "            s = f.readline()\n",
    "            if s == \"\":\n",
    "                break\n",
    "            else:\n",
    "                purchase.append(s)\n",
    "\n",
    "\n",
    "except:\n",
    "    print('ファイルが読み込めませんでした。')\n",
    "\n",
    "\n",
    "purchase.sort()\n",
    "\n"
   ]
  },
  {
   "cell_type": "code",
   "execution_count": 58,
   "metadata": {},
   "outputs": [
    {
     "name": "stdout",
     "output_type": "stream",
     "text": [
      "<2021年12月>\n",
      "製品                         個数\n",
      "--------------------------------\n",
      "Cola                           4\n",
      "Sprite                         3\n",
      "Aquarius                       2\n",
      "Real Gold                      2\n",
      "Evian                          2\n",
      "coffee                         1\n",
      "Lemon Tea                      2\n",
      "Milk Tea                       0\n",
      "<2022年01月>\n",
      "製品                         個数\n",
      "--------------------------------\n",
      "Cola                           0\n",
      "Sprite                         0\n",
      "Aquarius                       1\n",
      "Real Gold                      1\n",
      "Evian                          1\n",
      "coffee                         1\n",
      "Lemon Tea                      0\n",
      "Milk Tea                       1\n"
     ]
    }
   ],
   "source": [
    "purchase_dict = {}\n",
    "zeros = [0] * len(productList)\n",
    "purchase_dict = dict(zip(productList,zeros))\n",
    "yearmonth = \"\"\n",
    "\n",
    "for i in purchase:\n",
    "    dateint, item = i.replace('\\n','').split(',')\n",
    "    \n",
    "    if yearmonth != \"\" and yearmonth != dateint[0:6]:\n",
    "        # 月がかわったら出力してリセット\n",
    "        print(f'<{yearmonth[0:4]} 年 {yearmonth[4:6]} 月>')\n",
    "        print('{: <16}'.format('製品') + '{: >13}'.format('個数'))\n",
    "        print('-' * 32)\n",
    "        for key, value in purchase_dict.items():\n",
    "            print('{: <16}'.format(key) + '{: >16}'.format(value))\n",
    "        purchase_dict = dict(zip(productList,zeros))\n",
    "    \n",
    "    yearmonth = dateint[0:6]\n",
    "    if item in productList:\n",
    "        purchase_dict[item] += 1\n",
    "    \n",
    "\n",
    "# forが終了した時にもう一度出力\n",
    "print(f'<{yearmonth[0:4]} 年 {yearmonth[4:6]} 月>')\n",
    "print('{: <16}'.format('製品') + '{: >13}'.format('個数'))\n",
    "print('-' * 32)\n",
    "for key, value in purchase_dict.items():\n",
    "    print('{: <16}'.format(key) + '{: >16}'.format(value))\n",
    "purchase_dict = dict(zip(productList,zeros))\n",
    "    \n"
   ]
  },
  {
   "cell_type": "code",
   "execution_count": 46,
   "metadata": {},
   "outputs": [
    {
     "name": "stdout",
     "output_type": "stream",
     "text": [
      "kore        \n"
     ]
    }
   ],
   "source": [
    "print('kore{: <8}'.format(s))\n",
    "# print('right : {:*>8}'.format(s))"
   ]
  }
 ],
 "metadata": {
  "kernelspec": {
   "display_name": "Python 3",
   "language": "python",
   "name": "python3"
  },
  "language_info": {
   "codemirror_mode": {
    "name": "ipython",
    "version": 3
   },
   "file_extension": ".py",
   "mimetype": "text/x-python",
   "name": "python",
   "nbconvert_exporter": "python",
   "pygments_lexer": "ipython3",
   "version": "3.10.9"
  },
  "orig_nbformat": 4,
  "vscode": {
   "interpreter": {
    "hash": "7b1f2b33e866b0bf2409397e5f58ba9cdf170d3b7f64c8f359c79998e2f88ad4"
   }
  }
 },
 "nbformat": 4,
 "nbformat_minor": 2
}
